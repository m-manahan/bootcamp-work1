{
 "cells": [
  {
   "cell_type": "code",
   "execution_count": 1,
   "metadata": {},
   "outputs": [],
   "source": [
    "import pandas as pd\n",
    "import os"
   ]
  },
  {
   "cell_type": "code",
   "execution_count": 4,
   "metadata": {},
   "outputs": [
    {
     "ename": "NameError",
     "evalue": "name 'os' is not defined",
     "output_type": "error",
     "traceback": [
      "\u001b[1;31m---------------------------------------------------------------------------\u001b[0m",
      "\u001b[1;31mNameError\u001b[0m                                 Traceback (most recent call last)",
      "\u001b[1;32m<ipython-input-4-2089904b8790>\u001b[0m in \u001b[0;36m<module>\u001b[1;34m()\u001b[0m\n\u001b[1;32m----> 1\u001b[1;33m \u001b[0mcsv_path\u001b[0m \u001b[1;33m=\u001b[0m \u001b[0mos\u001b[0m\u001b[1;33m.\u001b[0m\u001b[0mpath\u001b[0m\u001b[1;33m.\u001b[0m\u001b[0mjoin\u001b[0m\u001b[1;33m(\u001b[0m\u001b[1;34m\"Resources\"\u001b[0m\u001b[1;33m,\u001b[0m\u001b[1;34m\"purchase_data.csv\"\u001b[0m\u001b[1;33m)\u001b[0m\u001b[1;33m\u001b[0m\u001b[0m\n\u001b[0m\u001b[0;32m      2\u001b[0m \u001b[0mpurchase_df\u001b[0m \u001b[1;33m=\u001b[0m \u001b[0mpd\u001b[0m\u001b[1;33m.\u001b[0m\u001b[0mread_csv\u001b[0m\u001b[1;33m(\u001b[0m\u001b[0mcsv_path\u001b[0m\u001b[1;33m)\u001b[0m\u001b[1;33m\u001b[0m\u001b[0m\n\u001b[0;32m      3\u001b[0m \u001b[0mlength\u001b[0m \u001b[1;33m=\u001b[0m \u001b[0mpurchase_df\u001b[0m\u001b[1;33m[\u001b[0m\u001b[1;34m\"SN\"\u001b[0m\u001b[1;33m]\u001b[0m\u001b[1;33m.\u001b[0m\u001b[0mnunique\u001b[0m\u001b[1;33m(\u001b[0m\u001b[1;33m)\u001b[0m\u001b[1;33m\u001b[0m\u001b[0m\n\u001b[0;32m      4\u001b[0m \u001b[1;31m#purchase_df.head()\u001b[0m\u001b[1;33m\u001b[0m\u001b[1;33m\u001b[0m\u001b[0m\n\u001b[0;32m      5\u001b[0m \u001b[0mplayer_total\u001b[0m\u001b[1;33m=\u001b[0m\u001b[0mpurchase_df\u001b[0m\u001b[1;33m[\u001b[0m\u001b[1;34m\"SN\"\u001b[0m\u001b[1;33m]\u001b[0m\u001b[1;33m.\u001b[0m\u001b[0mnunique\u001b[0m\u001b[1;33m(\u001b[0m\u001b[1;33m)\u001b[0m\u001b[1;33m\u001b[0m\u001b[0m\n",
      "\u001b[1;31mNameError\u001b[0m: name 'os' is not defined"
     ]
    }
   ],
   "source": [
    "csv_path = os.path.join(\"Resources\",\"purchase_data.csv\")\n",
    "purchase_df = pd.read_csv(csv_path)\n",
    "length = purchase_df[\"SN\"].nunique()\n",
    "#purchase_df.head()\n",
    "player_total=purchase_df[\"SN\"].nunique()\n",
    "total = {\"Total Players\":[length]}\n",
    "df=pd.DataFrame(data=total)\n",
    "purchase_df.head()"
   ]
  },
  {
   "cell_type": "code",
   "execution_count": 5,
   "metadata": {},
   "outputs": [
    {
     "ename": "NameError",
     "evalue": "name 'purchase_df' is not defined",
     "output_type": "error",
     "traceback": [
      "\u001b[1;31m---------------------------------------------------------------------------\u001b[0m",
      "\u001b[1;31mNameError\u001b[0m                                 Traceback (most recent call last)",
      "\u001b[1;32m<ipython-input-5-f8cada281314>\u001b[0m in \u001b[0;36m<module>\u001b[1;34m()\u001b[0m\n\u001b[1;32m----> 1\u001b[1;33m \u001b[0mnew_df\u001b[0m \u001b[1;33m=\u001b[0m \u001b[0mpurchase_df\u001b[0m\u001b[1;33m[\u001b[0m\u001b[1;33m[\u001b[0m\u001b[1;34m\"Item ID\"\u001b[0m\u001b[1;33m,\u001b[0m\u001b[1;34m\"Item Name\"\u001b[0m\u001b[1;33m,\u001b[0m\u001b[1;34m\"Price\"\u001b[0m\u001b[1;33m]\u001b[0m\u001b[1;33m]\u001b[0m\u001b[1;33m\u001b[0m\u001b[0m\n\u001b[0m\u001b[0;32m      2\u001b[0m \u001b[0mprice\u001b[0m \u001b[1;33m=\u001b[0m \u001b[0mpurchase_df\u001b[0m\u001b[1;33m[\u001b[0m\u001b[1;33m[\u001b[0m\u001b[1;34m\"Item ID\"\u001b[0m\u001b[1;33m,\u001b[0m\u001b[1;34m\"Price\"\u001b[0m\u001b[1;33m]\u001b[0m\u001b[1;33m]\u001b[0m\u001b[1;33m\u001b[0m\u001b[0m\n\u001b[0;32m      3\u001b[0m \u001b[1;31m#new_df\u001b[0m\u001b[1;33m\u001b[0m\u001b[1;33m\u001b[0m\u001b[0m\n",
      "\u001b[1;31mNameError\u001b[0m: name 'purchase_df' is not defined"
     ]
    }
   ],
   "source": [
    "new_df = purchase_df[[\"Item ID\",\"Item Name\",\"Price\"]]\n",
    "price = purchase_df[[\"Item ID\",\"Price\"]]\n",
    "#new_df"
   ]
  },
  {
   "cell_type": "code",
   "execution_count": 3,
   "metadata": {},
   "outputs": [
    {
     "ename": "NameError",
     "evalue": "name 'new_df' is not defined",
     "output_type": "error",
     "traceback": [
      "\u001b[1;31m---------------------------------------------------------------------------\u001b[0m",
      "\u001b[1;31mNameError\u001b[0m                                 Traceback (most recent call last)",
      "\u001b[1;32m<ipython-input-3-a3118e06b821>\u001b[0m in \u001b[0;36m<module>\u001b[1;34m()\u001b[0m\n\u001b[0;32m      1\u001b[0m \u001b[1;31m#count = new_df[\"Item Name\"].value_counts()\u001b[0m\u001b[1;33m\u001b[0m\u001b[1;33m\u001b[0m\u001b[0m\n\u001b[0;32m      2\u001b[0m \u001b[1;31m#count = pd.DataFrame(data = count)\u001b[0m\u001b[1;33m\u001b[0m\u001b[1;33m\u001b[0m\u001b[0m\n\u001b[1;32m----> 3\u001b[1;33m \u001b[0mnew_df\u001b[0m \u001b[1;33m=\u001b[0m \u001b[0mnew_df\u001b[0m\u001b[1;33m.\u001b[0m\u001b[0mgroupby\u001b[0m\u001b[1;33m(\u001b[0m\u001b[1;33m[\u001b[0m\u001b[1;34m'Item ID'\u001b[0m\u001b[1;33m,\u001b[0m\u001b[1;34m'Item Name'\u001b[0m\u001b[1;33m]\u001b[0m\u001b[1;33m)\u001b[0m\u001b[1;33m\u001b[0m\u001b[0m\n\u001b[0m\u001b[0;32m      4\u001b[0m \u001b[0mnew_df\u001b[0m\u001b[1;33m[\u001b[0m\u001b[1;34m\"Price\"\u001b[0m\u001b[1;33m]\u001b[0m\u001b[1;33m.\u001b[0m\u001b[0mvalue_counts\u001b[0m\u001b[1;33m(\u001b[0m\u001b[1;33m)\u001b[0m\u001b[1;33m\u001b[0m\u001b[0m\n\u001b[0;32m      5\u001b[0m \u001b[1;31m#item_df=item_df.sort_values(ascending=False)\u001b[0m\u001b[1;33m\u001b[0m\u001b[1;33m\u001b[0m\u001b[0m\n",
      "\u001b[1;31mNameError\u001b[0m: name 'new_df' is not defined"
     ]
    }
   ],
   "source": [
    "#count = new_df[\"Item Name\"].value_counts()\n",
    "#count = pd.DataFrame(data = count)\n",
    "new_df = new_df.groupby(['Item ID','Item Name'])\n",
    "new_df[\"Price\"].value_counts()\n",
    "#item_df=item_df.sort_values(ascending=False)\n",
    "\n",
    "\n",
    "new_df = new_df[\"Price\"].value_counts()\n",
    "new_df = new_df.sort_values(ascending=False)\n",
    "new_df=pd.DataFrame(data=new_df)\n",
    "new_df.head()\n"
   ]
  },
  {
   "cell_type": "code",
   "execution_count": 30,
   "metadata": {},
   "outputs": [],
   "source": [
    "new_df = new_df.rename(columns={\"Price\":\"Item Count\"})"
   ]
  },
  {
   "cell_type": "code",
   "execution_count": 31,
   "metadata": {},
   "outputs": [
    {
     "data": {
      "text/html": [
       "<div>\n",
       "<style scoped>\n",
       "    .dataframe tbody tr th:only-of-type {\n",
       "        vertical-align: middle;\n",
       "    }\n",
       "\n",
       "    .dataframe tbody tr th {\n",
       "        vertical-align: top;\n",
       "    }\n",
       "\n",
       "    .dataframe thead th {\n",
       "        text-align: right;\n",
       "    }\n",
       "</style>\n",
       "<table border=\"1\" class=\"dataframe\">\n",
       "  <thead>\n",
       "    <tr style=\"text-align: right;\">\n",
       "      <th></th>\n",
       "      <th></th>\n",
       "      <th></th>\n",
       "      <th>Item Count</th>\n",
       "    </tr>\n",
       "    <tr>\n",
       "      <th>Item ID</th>\n",
       "      <th>Item Name</th>\n",
       "      <th>Price</th>\n",
       "      <th></th>\n",
       "    </tr>\n",
       "  </thead>\n",
       "  <tbody>\n",
       "    <tr>\n",
       "      <th>178</th>\n",
       "      <th>Oathbreaker, Last Hope of the Breaking Storm</th>\n",
       "      <th>4.23</th>\n",
       "      <td>12</td>\n",
       "    </tr>\n",
       "    <tr>\n",
       "      <th>82</th>\n",
       "      <th>Nirvana</th>\n",
       "      <th>4.90</th>\n",
       "      <td>9</td>\n",
       "    </tr>\n",
       "    <tr>\n",
       "      <th>108</th>\n",
       "      <th>Extraction, Quickblade Of Trembling Hands</th>\n",
       "      <th>3.53</th>\n",
       "      <td>9</td>\n",
       "    </tr>\n",
       "    <tr>\n",
       "      <th>145</th>\n",
       "      <th>Fiery Glass Crusader</th>\n",
       "      <th>4.58</th>\n",
       "      <td>9</td>\n",
       "    </tr>\n",
       "    <tr>\n",
       "      <th>92</th>\n",
       "      <th>Final Critic</th>\n",
       "      <th>4.88</th>\n",
       "      <td>8</td>\n",
       "    </tr>\n",
       "  </tbody>\n",
       "</table>\n",
       "</div>"
      ],
      "text/plain": [
       "                                                            Item Count\n",
       "Item ID Item Name                                    Price            \n",
       "178     Oathbreaker, Last Hope of the Breaking Storm 4.23           12\n",
       "82      Nirvana                                      4.90            9\n",
       "108     Extraction, Quickblade Of Trembling Hands    3.53            9\n",
       "145     Fiery Glass Crusader                         4.58            9\n",
       "92      Final Critic                                 4.88            8"
      ]
     },
     "execution_count": 31,
     "metadata": {},
     "output_type": "execute_result"
    }
   ],
   "source": [
    "new_df.head()"
   ]
  },
  {
   "cell_type": "code",
   "execution_count": null,
   "metadata": {},
   "outputs": [],
   "source": []
  },
  {
   "cell_type": "code",
   "execution_count": 32,
   "metadata": {},
   "outputs": [
    {
     "data": {
      "text/plain": [
       "array([(178, 'Oathbreaker, Last Hope of the Breaking Storm', 4.23),\n",
       "       (82, 'Nirvana', 4.9),\n",
       "       (108, 'Extraction, Quickblade Of Trembling Hands', 3.53),\n",
       "       (145, 'Fiery Glass Crusader', 4.58), (92, 'Final Critic', 4.88),\n",
       "       (19, 'Pursuit, Cudgel of Necromancy', 1.02),\n",
       "       (75, 'Brutality Ivory Warmace', 2.42),\n",
       "       (103, 'Singed Scalpel', 4.35), (72, \"Winter's Bite\", 3.77),\n",
       "       (60, 'Wolf', 3.54), (59, 'Lightning, Etcher of the King', 4.23),\n",
       "       (34, 'Retribution Axe', 2.22),\n",
       "       (37, 'Shadow Strike, Glory of Ending Hope', 3.16),\n",
       "       (159, 'Oathbreaker, Spellblade of Trials', 3.08),\n",
       "       (7, 'Thorn, Satchel of Dark Souls', 1.33),\n",
       "       (85, 'Malificent Bag', 1.75), (141, 'Persuasion', 3.19),\n",
       "       (78, 'Glimmer, Ender of the Moon', 4.4),\n",
       "       (164, 'Exiled Doomblade', 1.63), (53, 'Vengeance Cleaver', 2.05),\n",
       "       (117, 'Heartstriker, Legacy of the Light', 1.79),\n",
       "       (71, 'Demise', 1.61), (110, 'Suspension', 1.44),\n",
       "       (136, 'Ghastly Adamantite Protector', 3.58),\n",
       "       (40, 'Second Chance', 2.52), (54, 'Eternal Cleaver', 2.5),\n",
       "       (120, 'Agatha', 3.08), (12, 'Dawne', 1.02),\n",
       "       (144, 'Blood Infused Guardian', 1.94), (3, 'Phantomlight', 2.49),\n",
       "       (179, 'Wolf, Promise of the Moonwalker', 4.48),\n",
       "       (102, 'Avenger', 3.44), (2, 'Verdict', 2.48),\n",
       "       (96, 'Blood-Forged Skeletal Spine', 3.09),\n",
       "       (93, 'Apocalyptic Battlescythe', 1.97),\n",
       "       (143, 'Frenzied Scimitar', 1.56),\n",
       "       (129, 'Fate, Vengeance of Eternal Justice', 1.54),\n",
       "       (25, 'Hero Cane', 4.35), (22, 'Amnesia', 2.18),\n",
       "       (160, 'Azurewrath', 4.4), (146, 'Warped Iron Scimitar', 3.1),\n",
       "       (156, 'Soul-Forged Steel Shortsword', 1.77),\n",
       "       (114, 'Yearning Mageblade', 3.82),\n",
       "       (65, 'Conqueror Adamantite Mace', 4.24), (21, 'Souleater', 1.1),\n",
       "       (4, \"Bloodlord's Fetish\", 1.7), (20, 'Netherbane', 3.27),\n",
       "       (73, 'Ritual Mace', 2.05), (161, 'Devine', 1.76),\n",
       "       (162, 'Abyssal Shard', 2.67), (101, 'Final Critic', 4.19),\n",
       "       (100, 'Blindscythe', 3.27), (163, 'Thunderfury Scimitar', 3.45),\n",
       "       (98, 'Deadline, Voice Of Subtlety', 2.89), (11, 'Brimstone', 3.65),\n",
       "       (80, 'Dreamsong', 3.39), (181, \"Reaper's Toll\", 1.66),\n",
       "       (15, 'Soul Infused Crystal', 2.96), (24, 'Warped Fetish', 3.81),\n",
       "       (155, 'War-Forged Gold Deflector', 1.01),\n",
       "       (133, \"Faith's Scimitar\", 4.09),\n",
       "       (29, 'Chaos, Ender of the End', 1.98), (32, 'Orenmir', 1.14),\n",
       "       (35, 'Heartless Bone Dualblade', 3.45),\n",
       "       (149, 'Tranquility, Razor of Black Magic', 1.75),\n",
       "       (140, 'Striker', 2.94), (139, 'Mercy, Katana of Dismay', 4.94),\n",
       "       (138, 'Peacekeeper, Wit of Dark Magic', 4.74),\n",
       "       (137, 'Aetherius, Boon of the Blessed', 3.39),\n",
       "       (150, 'Deathraze', 2.85), (87, 'Deluge, Edge of the West', 4.43),\n",
       "       (39, 'Betrayal, Whisper of Grieving Widows', 3.94),\n",
       "       (131, 'Fury', 1.44),\n",
       "       (88, 'Emberling, Defender of Delusions', 3.75),\n",
       "       (46, 'Hopeless Ebon Dualblade', 1.33),\n",
       "       (128, 'Blazeguard, Reach of Eternity', 4.91),\n",
       "       (44, 'Bonecarvin Battle Axe', 2.38),\n",
       "       (68, 'Storm-Weaver, Slayer of Inception', 4.32),\n",
       "       (76, 'Haunted Bronzed Bludgeon', 3.15), (10, 'Sleepwalker', 1.79),\n",
       "       (83, 'Lifebender', 3.33), (45, 'Glinting Glass Edge', 3.85),\n",
       "       (16, 'Restored Bauble', 3.55),\n",
       "       (17, 'Lazarus, Terror of the Earth', 1.7),\n",
       "       (77, 'Piety, Guardian of Riddles', 4.0),\n",
       "       (57, 'Despair, Favor of Due Diligence', 4.6),\n",
       "       (58, \"Freak's Bite, Favor of Holy Might\", 4.14),\n",
       "       (67, 'Celeste, Incarnation of the Corrupted', 3.46),\n",
       "       (9, 'Thorn, Conqueror of the Corrupted', 2.73),\n",
       "       (5, 'Putrid Fan', 4.08), (13, 'Serenity', 1.41),\n",
       "       (38, 'The Void, Vengeance of Dark Magic', 2.37), (50, 'Dawn', 4.6),\n",
       "       (66, 'Victor Iron Spikes', 4.4), (70, \"Hope's End\", 1.03),\n",
       "       (52, 'Hatred', 4.84), (0, 'Splinter', 1.28),\n",
       "       (154, 'Feral Katana', 4.4), (153, 'Mercenary Sabre', 3.74),\n",
       "       (112, 'Worldbreaker', 2.6), (111, \"Misery's End\", 4.89),\n",
       "       (124, 'Venom Claymore', 1.29),\n",
       "       (157, 'Spada, Etcher of Hatred', 4.8),\n",
       "       (107, 'Splitter, Foe Of Subtlety', 2.18),\n",
       "       (165, 'Bone Crushing Silver Skewer', 4.86),\n",
       "       (105, 'Hailstorm Shadowsteel Scythe', 3.03),\n",
       "       (116, 'Renewed Skeletal Katana', 4.18),\n",
       "       (167, 'Malice, Legacy of the Queen', 3.61),\n",
       "       (99, 'Expiration, Warscythe Of Lost Worlds', 1.71),\n",
       "       (169, 'Interrogator, Blood Blade of the Queen', 2.18),\n",
       "       (170, 'Shadowsteel', 3.97), (94, 'Mourning Blade', 3.49),\n",
       "       (152, 'Darkheart', 1.74), (172, 'Blade of the Grave', 3.14),\n",
       "       (121, 'Massacre', 1.6), (174, 'Primitive Blade', 3.47),\n",
       "       (123, \"Twilight's Carver\", 2.28), (113, \"Solitude's Reaver\", 4.07),\n",
       "       (135, 'Warped Diamond Crusader', 1.4), (130, 'Alpha', 2.07),\n",
       "       (41, 'Orbit', 4.75),\n",
       "       (89, 'Blazefury, Protector of Delusions', 4.64),\n",
       "       (142, 'Righteous Might', 2.62), (86, 'Stormfury Lantern', 2.27),\n",
       "       (147, 'Hellreaver, Heirloom of Inception', 4.93),\n",
       "       (148, \"Warmonger, Gift of Suffering's End\", 4.03),\n",
       "       (151, 'Severance', 3.4), (166, 'Thirsty Iron Reaver', 3.07),\n",
       "       (171, 'Scalpel', 1.79), (8, 'Purgatory, Gem of Regret', 3.93),\n",
       "       (175, 'Woeful Adamantite Claymore', 4.48), (1, 'Crucifer', 3.26),\n",
       "       (49, 'The Oculus, Token of Lost Worlds', 2.96),\n",
       "       (183, \"Dragon's Greatsword\", 1.09), (64, 'Fusion Pummel', 4.82),\n",
       "       (182, 'Toothpick', 4.03), (106, 'Crying Steel Sickle', 3.41),\n",
       "       (62, 'Piece Maker', 1.87), (74, 'Yearning Crusher', 4.18),\n",
       "       (61, 'Ragnarok', 3.87), (97, 'Swan Song, Gouger Of Terror', 2.5),\n",
       "       (95, 'Singed Onyx Warscythe', 4.74),\n",
       "       (109, 'Downfall, Scalpel Of The Emperor', 4.76),\n",
       "       (79, 'Alpha, Oath of Zeal', 4.05),\n",
       "       (119, 'Stormbringer, Dark Blade of Ending Misery', 4.32),\n",
       "       (55, 'Vindictive Glass Edge', 2.27),\n",
       "       (122, 'Unending Tyranny', 2.85), (84, 'Arcane Gem', 3.79),\n",
       "       (173, 'Stormfury Longsword', 4.93), (81, 'Dreamkiss', 3.61),\n",
       "       (14, 'Possessed Core', 2.61), (6, 'Rusty Skull', 3.7),\n",
       "       (168, 'Sun Strike, Jaws of Twisted Visions', 1.48),\n",
       "       (176, 'Relentless Iron Skewer', 2.84),\n",
       "       (177, 'Winterthorn, Defender of Shifting Worlds', 2.08),\n",
       "       (18, 'Torchlight, Bond of Storms', 4.65),\n",
       "       (158, 'Darkheart, Butcher of the Champion', 2.45),\n",
       "       (69, 'Frenzy, Defender of the Harvest', 1.98),\n",
       "       (43, 'Foul Edge', 3.54), (31, 'Trickster', 1.55),\n",
       "       (132, 'Persuasion', 3.33), (63, 'Stormfury Mace', 4.99),\n",
       "       (26, 'Unholy Wand', 1.12),\n",
       "       (28, 'Flux, Destroyer of Due Diligence', 1.06),\n",
       "       (56, 'Foul Titanium Battle Axe', 2.92), (30, 'Stormcaller', 2.21),\n",
       "       (127, 'Heartseeker, Reaver of Souls', 3.92),\n",
       "       (33, 'Curved Axe', 1.16),\n",
       "       (115, 'Spectral Diamond Doomblade', 2.04),\n",
       "       (125, 'Whistling Mithril Warblade', 1.0),\n",
       "       (48, 'Rage, Legacy of the Lone Victor', 2.48),\n",
       "       (126, 'Exiled Mithril Longsword', 2.0), (23, 'Crucifer', 1.99),\n",
       "       (180, 'Stormcaller', 3.36),\n",
       "       (47, 'Alpha, Reach of Ending Hope', 3.58), (90, 'Betrayer', 2.94),\n",
       "       (134, 'Undead Crusader', 4.5), (91, 'Celeste', 4.17),\n",
       "       (42, 'The Decapitator', 1.75),\n",
       "       (118, 'Ghost Reaver, Longsword of Magic', 2.17),\n",
       "       (104, \"Gladiator's Glaive\", 1.93),\n",
       "       (27, 'Riddle, Tribute of Ended Dreams', 3.3),\n",
       "       (51, 'Endbringer', 4.66)], dtype=object)"
      ]
     },
     "execution_count": 32,
     "metadata": {},
     "output_type": "execute_result"
    }
   ],
   "source": [
    "new_df.index.get_values()"
   ]
  },
  {
   "cell_type": "code",
   "execution_count": 24,
   "metadata": {},
   "outputs": [],
   "source": []
  },
  {
   "cell_type": "code",
   "execution_count": null,
   "metadata": {},
   "outputs": [],
   "source": []
  },
  {
   "cell_type": "code",
   "execution_count": 37,
   "metadata": {},
   "outputs": [],
   "source": [
    "prices_df = purchase_df[\"Price\"].unique()"
   ]
  },
  {
   "cell_type": "code",
   "execution_count": 43,
   "metadata": {},
   "outputs": [
    {
     "data": {
      "text/plain": [
       "array([3.53, 1.56, 4.88, 3.27, 1.44, 3.61, 2.18, 2.67, 1.1 , 3.58, 4.74,\n",
       "       4.18, 1.7 , 4.86, 2.89, 2.52, 1.76, 4.9 , 4.64, 4.6 , 1.48, 3.81,\n",
       "       3.4 , 3.19, 4.23, 1.61, 3.09, 4.32, 3.16, 2.94, 4.48, 4.09, 2.38,\n",
       "       4.4 , 2.05, 3.15, 3.14, 1.33, 3.77, 2.73, 1.66, 3.44, 3.97, 2.96,\n",
       "       3.54, 2.84, 4.35, 3.79, 3.39, 1.74, 3.03, 1.  , 2.92, 2.22, 3.7 ,\n",
       "       3.3 , 1.98, 1.29, 3.75, 3.47, 1.02, 1.16, 1.54, 3.94, 1.63, 4.5 ,\n",
       "       4.19, 4.76, 1.79, 2.5 , 1.71, 1.75, 4.94, 4.75, 2.85, 1.41, 4.43,\n",
       "       3.26, 1.87, 2.42, 4.14, 3.08, 4.58, 1.28, 2.48, 3.1 , 2.45, 3.93,\n",
       "       4.03, 4.89, 2.49, 4.24, 1.09, 2.21, 4.8 , 2.28, 4.08, 1.94, 1.4 ,\n",
       "       4.66, 1.14, 4.  , 3.65, 4.99, 4.07, 3.74, 3.82, 2.62, 3.45, 3.55,\n",
       "       3.33, 1.99, 1.06, 3.49, 1.03, 4.65, 3.07, 4.93, 1.01, 4.91, 1.77,\n",
       "       4.84, 3.41, 2.37, 4.17, 2.17, 3.46, 3.85, 1.6 , 4.05, 2.61, 1.55,\n",
       "       4.82, 2.27, 1.97, 1.12, 3.87, 2.6 , 2.  , 2.04, 3.92, 2.07, 2.08,\n",
       "       1.93, 3.36])"
      ]
     },
     "execution_count": 43,
     "metadata": {},
     "output_type": "execute_result"
    }
   ],
   "source": [
    "prices_df"
   ]
  },
  {
   "cell_type": "code",
   "execution_count": null,
   "metadata": {},
   "outputs": [],
   "source": []
  },
  {
   "cell_type": "code",
   "execution_count": null,
   "metadata": {},
   "outputs": [],
   "source": []
  }
 ],
 "metadata": {
  "kernelspec": {
   "display_name": "Python 3",
   "language": "python",
   "name": "python3"
  },
  "language_info": {
   "codemirror_mode": {
    "name": "ipython",
    "version": 3
   },
   "file_extension": ".py",
   "mimetype": "text/x-python",
   "name": "python",
   "nbconvert_exporter": "python",
   "pygments_lexer": "ipython3",
   "version": "3.6.5"
  }
 },
 "nbformat": 4,
 "nbformat_minor": 2
}
